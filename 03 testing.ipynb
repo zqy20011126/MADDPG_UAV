{
 "cells": [
  {
   "cell_type": "markdown",
   "id": "4960b064",
   "metadata": {},
   "source": [
    "### packages"
   ]
  },
  {
   "cell_type": "code",
   "execution_count": 3,
   "id": "270e1b1a",
   "metadata": {},
   "outputs": [],
   "source": [
    "########################################################################################################\n",
    "########################################################################################################\n",
    "\n",
    "\n",
    "from MADDPG import MADDPG\n",
    "\n",
    "########################################################################################################\n",
    "########################################################################################################\n",
    "\n",
    "\n",
    "import os\n",
    "\n",
    "import numpy as np\n",
    "\n",
    "########################################################################################################\n",
    "########################################################################################################\n",
    "\n",
    "\n",
    "import torch\n",
    "\n",
    "########################################################################################################\n",
    "########################################################################################################\n",
    "\n",
    "import matplotlib.pyplot as plt \n",
    "\n",
    "from matplotlib.ticker import MultipleLocator, FormatStrFormatter\n",
    "\n",
    "########################################################################################################\n",
    "########################################################################################################\n",
    "\n",
    "from Environment import Environment\n"
   ]
  },
  {
   "cell_type": "markdown",
   "id": "b73b69a2",
   "metadata": {},
   "source": [
    "### load the environment"
   ]
  },
  {
   "cell_type": "code",
   "execution_count": 4,
   "id": "7dcaeda3",
   "metadata": {},
   "outputs": [],
   "source": [
    "########################################################################################################\n",
    "########################################################################################################\n",
    "\n",
    "env=Environment()\n",
    "\n",
    "obs = env.reset()\n",
    "\n",
    "########################################################################################################\n",
    "########################################################################################################\n",
    "\n",
    "obs_dim_list=[len(o) for o in obs]\n",
    "\n",
    "########################################################################################################\n",
    "########################################################################################################\n",
    "\n",
    "act_dim_list=[2 for o in obs]\n",
    "\n",
    "########################################################################################################\n",
    "########################################################################################################\n",
    "\n",
    "res_dir=\"./result\"\n",
    "\n",
    "########################################################################################################\n",
    "########################################################################################################\n"
   ]
  },
  {
   "cell_type": "markdown",
   "id": "6f3e7c55",
   "metadata": {},
   "source": [
    "### maddpg algorithm"
   ]
  },
  {
   "cell_type": "code",
   "execution_count": 6,
   "id": "708e986f",
   "metadata": {},
   "outputs": [
    {
     "name": "stdout",
     "output_type": "stream",
     "text": [
      "training on device: cpu\n",
      "MADDPG load model.pt\n"
     ]
    }
   ],
   "source": [
    "########################################################################################################\n",
    "########################################################################################################\n",
    "########################################################################################################\n",
    "########################################################################################################\n",
    "\n",
    "class argparse(object):\n",
    "    \n",
    "    buffer_capacity=int(1e6)\n",
    "    \n",
    "    actor_lr=1e-2\n",
    "    \n",
    "    critic_lr=1e-2\n",
    "    \n",
    "    episode_num=30000\n",
    "    \n",
    "    steps_before_learn=2000\n",
    "    \n",
    "    batch_size=1024\n",
    "    \n",
    "    gamma=.95\n",
    "    \n",
    "    tau=.02\n",
    "    \n",
    "    episode_length=25\n",
    "    \n",
    "    learn_interval=100\n",
    "    \n",
    "    save_interval=100\n",
    "    \n",
    "args=argparse()\n",
    "\n",
    "########################################################################################################\n",
    "########################################################################################################\n",
    "\n",
    "maddpg = MADDPG(obs_dim_list, act_dim_list, args.buffer_capacity, args.actor_lr, args.critic_lr, res_dir)\n",
    "\n",
    "########################################################################################################\n",
    "########################################################################################################\n",
    "\n",
    "data = torch.load(res_dir+\"/model.pt\")\n",
    "\n",
    "for agent, actor_parameter in zip(maddpg.agents, data):\n",
    "    \n",
    "    agent.actor.load_state_dict(actor_parameter)\n",
    "    \n",
    "print('MADDPG load model.pt')\n"
   ]
  },
  {
   "cell_type": "markdown",
   "id": "fb26be72",
   "metadata": {},
   "source": [
    "### training"
   ]
  },
  {
   "cell_type": "code",
   "execution_count": 7,
   "id": "98a0bce7",
   "metadata": {},
   "outputs": [
    {
     "data": {
      "image/png": "[encoded data removed]",
      "text/plain": [
       "<Figure size 720x720 with 1 Axes>"
      ]
     },
     "metadata": {
      "needs_background": "light"
     },
     "output_type": "display_data"
    }
   ],
   "source": [
    "\n",
    "obs = env.reset()\n",
    "\n",
    "\n",
    "for step in range(args.episode_length):  # interact with the env for an episode\n",
    "\n",
    "    actions = maddpg.select_action(obs)\n",
    "\n",
    "    ########################################################################################################\n",
    "\n",
    "    actual_actions=list()\n",
    "\n",
    "    for i in range(len(env.agents)):\n",
    "\n",
    "        action=actions[i]\n",
    "\n",
    "        velocity=env.agents[i].velocity*action[0]\n",
    "\n",
    "        theta=2*np.pi**action[1]\n",
    "\n",
    "        actual_actions.append((velocity,theta))\n",
    "\n",
    "    ########################################################################################################\n",
    "\n",
    "    next_obs, rewards, dones , _ = env.step(actual_actions)\n",
    "    \n",
    "    env.render()# show\n",
    "\n",
    "    obs = next_obs\n",
    "\n",
    "\n",
    "\n"
   ]
  }
 ],
 "metadata": {
  "kernelspec": {
   "display_name": "Python 3",
   "language": "python",
   "name": "python3"
  },
  "language_info": {
   "codemirror_mode": {
    "name": "ipython",
    "version": 3
   },
   "file_extension": ".py",
   "mimetype": "text/x-python",
   "name": "python",
   "nbconvert_exporter": "python",
   "pygments_lexer": "ipython3",
   "version": "3.8.8"
  }
 },
 "nbformat": 4,
 "nbformat_minor": 5
}
